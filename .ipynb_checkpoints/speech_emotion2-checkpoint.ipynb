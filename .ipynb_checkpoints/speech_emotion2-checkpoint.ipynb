{
 "cells": [
  {
   "cell_type": "code",
   "execution_count": 66,
   "id": "84ce637b",
   "metadata": {},
   "outputs": [],
   "source": [
    "import pandas as pd\n",
    "import numpy as np\n",
    "from sklearn.model_selection import train_test_split\n",
    "from sklearn.preprocessing import RobustScaler\n",
    "import os\n",
    "import librosa\n",
    "import librosa.display\n",
    "import matplotlib.pyplot as plt\n",
    "import seaborn as sns"
   ]
  },
  {
   "cell_type": "code",
   "execution_count": 67,
   "id": "3f04f913",
   "metadata": {},
   "outputs": [],
   "source": [
    "# load data\n",
    "data = \"data/\"\n",
    "\n",
    "dir_list = os.listdir(data)\n",
    "# print(dir_list)"
   ]
  },
  {
   "cell_type": "code",
   "execution_count": 68,
   "id": "ed508eac",
   "metadata": {},
   "outputs": [],
   "source": [
    "emotion = []\n",
    "file_path = []\n",
    "\n",
    "for file in dir_list:\n",
    "    part = file.split('_')\n",
    "    if part[2] == 'ANG':\n",
    "        emotion.append(0)\n",
    "    elif part[2] == 'DIS':\n",
    "        emotion.append(1)\n",
    "    elif part[2] == 'FEA':\n",
    "        emotion.append(2)\n",
    "    elif part[2] == 'HAP':\n",
    "        emotion.append(3)\n",
    "    elif part[2] == 'NEU':\n",
    "        emotion.append(4)\n",
    "    elif part[2] == 'SAD':\n",
    "        emotion.append(5)\n",
    "    else:\n",
    "        emotion.append(6)\n",
    "    file_path.append(data + file)"
   ]
  },
  {
   "cell_type": "code",
   "execution_count": 69,
   "id": "0b608514",
   "metadata": {},
   "outputs": [
    {
     "name": "stdout",
     "output_type": "stream",
     "text": [
      "      label                      path\n",
      "0         0  data/1022_ITS_ANG_XX.wav\n",
      "1         0  data/1037_ITS_ANG_XX.wav\n",
      "2         4  data/1060_ITS_NEU_XX.wav\n",
      "3         4  data/1075_ITS_NEU_XX.wav\n",
      "4         1  data/1073_IOM_DIS_XX.wav\n",
      "...     ...                       ...\n",
      "7437      0  data/1089_WSI_ANG_XX.wav\n",
      "7438      0  data/1025_IWW_ANG_XX.wav\n",
      "7439      0  data/1030_IWW_ANG_XX.wav\n",
      "7440      0  data/1019_TIE_ANG_XX.wav\n",
      "7441      4  data/1079_IEO_NEU_XX.wav\n",
      "\n",
      "[7442 rows x 2 columns]\n",
      "3    1271\n",
      "2    1271\n",
      "5    1271\n",
      "1    1271\n",
      "0    1271\n",
      "4    1087\n",
      "Name: label, dtype: int64\n"
     ]
    }
   ],
   "source": [
    "# create dataframe\n",
    "emotion_df = pd.DataFrame(emotion, columns = ['label'])\n",
    "# print(emotion_df)\n",
    "path_df = pd.DataFrame(file_path,columns = ['path'])\n",
    "# print(path_df)\n",
    "data_df = pd.concat([emotion_df,path_df],axis=1)\n",
    "print(data_df)\n",
    "count = data_df.label.value_counts()\n",
    "print(count)\n",
    "data_df.to_csv('data_test.csv',index=False)"
   ]
  },
  {
   "cell_type": "code",
   "execution_count": 70,
   "id": "77fd01e0",
   "metadata": {},
   "outputs": [
    {
     "data": {
      "image/png": "[encoded data removed]",
      "text/plain": [
       "<Figure size 576x432 with 1 Axes>"
      ]
     },
     "metadata": {},
     "output_type": "display_data"
    }
   ],
   "source": [
    "# ----------------------------------------------------------\n",
    "# data visualization\n",
    "pic = pd.Series({'ANG':1271, 'DIS':1271, 'FEA':1271, 'HAP':1271, 'NEU':1087, 'SAD':1271, 'WRONG':1271})\n",
    "plt.rcParams['figure.figsize'] = (8.0, 6.0)   \n",
    "\n",
    "lbs= pic.index\n",
    "explodes=[0.1 if i=='0' else 0 for i in lbs]\n",
    "plt.pie(pic, explode=explodes,labels=lbs, autopct=\"%1.1f%%\", colors=sns.color_palette(\"muted\"),startangle = 90,pctdistance = 0.6, textprops={'fontsize':14,'color':'black'})\n",
    "\n",
    "plt.axis('equal')  \n",
    "\n",
    "plt.show()\n",
    "# -----------------------------------------------------------"
   ]
  },
  {
   "cell_type": "code",
   "execution_count": 71,
   "id": "94a2dec1",
   "metadata": {},
   "outputs": [
    {
     "name": "stderr",
     "output_type": "stream",
     "text": [
      "/Users/nanaliu/opt/anaconda3/lib/python3.8/site-packages/librosa/core/pitch.py:153: UserWarning: Trying to estimate tuning from empty frequency set.\n",
      "  warnings.warn(\"Trying to estimate tuning from empty frequency set.\")\n"
     ]
    },
    {
     "name": "stdout",
     "output_type": "stream",
     "text": [
      "            0          1          2          3          4          5    \\\n",
      "0     16.400534  16.306118  19.558004  16.519555  18.122158  20.114535   \n",
      "1     13.247614  15.792152  19.354508  17.228023  18.042751  17.233293   \n",
      "2     12.936712  13.217512  17.085120  15.014298  15.529659  15.706592   \n",
      "3     12.251594  13.860969  16.840476  16.351892  16.083777  15.984826   \n",
      "4     14.568759  14.935333  17.368072  15.509324  15.883381  17.161036   \n",
      "...         ...        ...        ...        ...        ...        ...   \n",
      "7437  14.472258  16.635959  18.370714  18.632365  18.362349  18.678624   \n",
      "7438  11.884502  16.390293  19.449588  17.225072  18.471554  17.661157   \n",
      "7439  13.608998  14.788603  18.111976  16.429614  17.599071  18.096800   \n",
      "7440  14.528197  15.037236  17.314356  15.294562  16.763371  16.687326   \n",
      "7441  12.503675  15.693325  17.369836  16.581286  16.726094  15.798217   \n",
      "\n",
      "            6         7         8         9    ...           158  \\\n",
      "0     45.286520  0.622429  0.579093  0.558505  ...  1.519539e-09   \n",
      "1     45.424485  0.601394  0.534169  0.541880  ...  2.078036e-10   \n",
      "2     46.423034  0.587565  0.543079  0.550782  ...  1.059692e-09   \n",
      "3     45.778125  0.638103  0.649543  0.617223  ...  1.656313e-10   \n",
      "4     44.412403  0.629534  0.642648  0.614843  ...  2.559628e-09   \n",
      "...         ...       ...       ...       ...  ...           ...   \n",
      "7437  47.913707  0.570461  0.602664  0.607535  ...  1.852249e-09   \n",
      "7438  46.256182  0.422808  0.464341  0.512762  ...  3.020824e-09   \n",
      "7439  45.551676  0.594725  0.570314  0.557002  ...  1.591702e-09   \n",
      "7440  46.654462  0.570995  0.612728  0.655213  ...  3.422205e-10   \n",
      "7441  46.214195  0.655968  0.609101  0.578728  ...  9.731564e-10   \n",
      "\n",
      "               159           160           161           162           163  \\\n",
      "0     2.041700e-09  3.103812e-09  3.035270e-09  3.075499e-09  2.147329e-09   \n",
      "1     1.175979e-10  1.463223e-10  3.663207e-10  2.098805e-10  7.516790e-10   \n",
      "2     9.847863e-10  9.218455e-10  8.753270e-10  8.313992e-10  8.165815e-10   \n",
      "3     1.527772e-10  1.492406e-10  1.507024e-10  1.449901e-10  1.937792e-10   \n",
      "4     2.391094e-09  2.252920e-09  2.146073e-09  2.066352e-09  2.058516e-09   \n",
      "...            ...           ...           ...           ...           ...   \n",
      "7437  4.886840e-09  2.759076e-09  2.157132e-09  2.339897e-09  2.061829e-09   \n",
      "7438  3.032627e-09  2.707490e-09  3.029134e-09  2.735393e-09  2.770712e-09   \n",
      "7439  1.517536e-09  1.596489e-09  2.150389e-09  2.172870e-09  1.528116e-09   \n",
      "7440  1.987177e-10  1.485398e-10  5.430671e-10  3.271237e-10  4.769676e-10   \n",
      "7441  8.797580e-10  8.076804e-10  7.811182e-10  7.267312e-10  6.863807e-10   \n",
      "\n",
      "               164           165           166           167  \n",
      "0     1.604235e-09  1.887976e-09  1.879563e-09  1.492714e-09  \n",
      "1     1.913153e-10  7.235155e-10  2.924423e-10  2.490824e-10  \n",
      "2     7.784164e-10  7.670717e-10  7.412921e-10  7.204750e-10  \n",
      "3     1.523137e-10  1.869879e-10  1.491370e-10  1.341362e-10  \n",
      "4     1.956819e-09  1.934594e-09  1.862811e-09  1.793180e-09  \n",
      "...            ...           ...           ...           ...  \n",
      "7437  1.319562e-09  1.827260e-09  1.612387e-09  2.692901e-09  \n",
      "7438  2.033551e-09  2.835407e-09  2.915460e-09  2.447368e-09  \n",
      "7439  1.296231e-09  1.439525e-09  1.614529e-09  1.359284e-09  \n",
      "7440  2.294641e-10  4.838992e-10  3.195739e-10  3.988583e-10  \n",
      "7441  6.460891e-10  6.287704e-10  6.091952e-10  6.124781e-10  \n",
      "\n",
      "[7442 rows x 168 columns]\n",
      "(7442,)\n"
     ]
    }
   ],
   "source": [
    "# Extract feature(MFCC,MEL,CONTRAST,CHROMA)\n",
    "\n",
    "df = pd.DataFrame(columns=['feature'])\n",
    "counter = 0\n",
    "for label, path in enumerate(data_df.path):\n",
    "    # https: // librosa.org / doc / main / generated / librosa.load.html\n",
    "    data, sample_rate = librosa.load(path,res_type='kaiser_fast',duration=4,offset=0.0)\n",
    "\n",
    "    # STFT\n",
    "    stft = np.abs(librosa.stft(data))\n",
    "    result = np.array([])\n",
    "\n",
    "    # spectral contrast\n",
    "    contrast = np.mean(librosa.feature.spectral_contrast(S=stft, sr=22050).T, axis=0)\n",
    "    result = np.hstack((result, contrast))\n",
    "\n",
    "    # Chroma\n",
    "    chroma_stft = np.mean(librosa.feature.chroma_stft(S=stft, sr=22050).T, axis=0)\n",
    "    result = np.hstack((result, chroma_stft))\n",
    "    df.loc[counter] = [chroma_stft]\n",
    "\n",
    "    # MFCC\n",
    "    mfcc = np.mean(librosa.feature.mfcc(y=data,sr=22050).T,axis=0)\n",
    "    result = np.hstack((result, mfcc))\n",
    "\n",
    "    # Root Mean Square Value\n",
    "    rms = np.mean(librosa.feature.rms(y=data).T, axis=0)\n",
    "    result = np.hstack((result, rms))\n",
    "\n",
    "    # MEL\n",
    "    mel = np.mean(librosa.feature.melspectrogram(data, sr=22050).T, axis=0)\n",
    "    result = np.hstack((result, mel))\n",
    "    \n",
    "    df.loc[counter] = [result]\n",
    "    counter = counter +1\n",
    "    \n",
    "df = pd.DataFrame(df['feature'].values.tolist())\n",
    "feature = pd.concat([emotion_df, df], axis=1)\n",
    "feature = feature.to_csv('feature_test.csv',index=False)\n",
    "df = df.fillna(0)\n",
    "print(df)\n",
    "print(data_df.path.shape)"
   ]
  },
  {
   "cell_type": "code",
   "execution_count": 72,
   "id": "df771a93",
   "metadata": {},
   "outputs": [
    {
     "name": "stdout",
     "output_type": "stream",
     "text": [
      "(5953, 168)\n",
      "(1489, 168)\n",
      "(5953, 1)\n",
      "(1489, 1)\n",
      "      label\n",
      "5393      1\n",
      "2740      1\n",
      "1731      5\n",
      "5523      4\n",
      "2463      5\n",
      "...     ...\n",
      "4462      2\n",
      "3184      3\n",
      "5499      2\n",
      "5857      2\n",
      "6104      3\n",
      "\n",
      "[1489 rows x 1 columns]\n"
     ]
    }
   ],
   "source": [
    "x_train, x_test, y_train, y_test = train_test_split(df, emotion_df, test_size=0.2, shuffle=True)\n",
    "# scaling data with sklearn's RobustScaler\n",
    "scaler = RobustScaler()\n",
    "x_train = scaler.fit_transform(x_train)\n",
    "x_test = scaler.transform(x_test)\n",
    "print(x_train.shape)\n",
    "print(x_test.shape)\n",
    "print(y_train.shape)\n",
    "print(y_test.shape)\n",
    "print(y_test)"
   ]
  },
  {
   "cell_type": "code",
   "execution_count": 73,
   "id": "5c5066db",
   "metadata": {},
   "outputs": [
    {
     "name": "stdout",
     "output_type": "stream",
     "text": [
      "(5953, 168, 1)\n",
      "(1489, 168, 1)\n"
     ]
    }
   ],
   "source": [
    "# Add a dimension, in order to makes the data and the model compatible\n",
    "x_train = np.expand_dims(x_train, axis=2)\n",
    "x_test = np.expand_dims(x_test, axis=2)\n",
    "print(x_train.shape)\n",
    "print(x_test.shape)"
   ]
  },
  {
   "cell_type": "code",
   "execution_count": 74,
   "id": "c12f68f0",
   "metadata": {},
   "outputs": [],
   "source": [
    "import keras\n",
    "from keras.models import Sequential\n",
    "from keras.layers import Conv1D, Activation, Dropout, MaxPooling1D, Flatten, Dense, BatchNormalization"
   ]
  },
  {
   "cell_type": "code",
   "execution_count": 75,
   "id": "4059d95f",
   "metadata": {
    "scrolled": true
   },
   "outputs": [
    {
     "name": "stdout",
     "output_type": "stream",
     "text": [
      "Model: \"sequential_14\"\n",
      "_________________________________________________________________\n",
      "Layer (type)                 Output Shape              Param #   \n",
      "=================================================================\n",
      "conv1d_43 (Conv1D)           (None, 168, 256)          2304      \n",
      "_________________________________________________________________\n",
      "max_pooling1d_43 (MaxPooling (None, 84, 256)           0         \n",
      "_________________________________________________________________\n",
      "flatten_13 (Flatten)         (None, 21504)             0         \n",
      "_________________________________________________________________\n",
      "dense_27 (Dense)             (None, 64)                1376320   \n",
      "_________________________________________________________________\n",
      "activation_42 (Activation)   (None, 64)                0         \n",
      "_________________________________________________________________\n",
      "dropout_25 (Dropout)         (None, 64)                0         \n",
      "_________________________________________________________________\n",
      "dense_28 (Dense)             (None, 64)                4160      \n",
      "=================================================================\n",
      "Total params: 1,382,784\n",
      "Trainable params: 1,382,784\n",
      "Non-trainable params: 0\n",
      "_________________________________________________________________\n",
      "None\n"
     ]
    }
   ],
   "source": [
    "model = Sequential()\n",
    "model.add(Conv1D(256, 8, padding='same', input_shape=(x_train.shape[1], 1)))\n",
    "model.add(MaxPooling1D(pool_size=5, strides = 2, padding = 'same'))\n",
    "\n",
    "model.add(Flatten())\n",
    "model.add(Dense(units=64))\n",
    "model.add(Activation('relu'))\n",
    "model.add(Dropout(0.3))\n",
    "\n",
    "model.add(Dense(units=64, activation='sigmoid'))\n",
    "opt = keras.optimizers.Adam(lr=0.0001)\n",
    "model.compile(optimizer=opt, loss = 'sparse_categorical_crossentropy', metrics=['accuracy'])\n",
    "print(model.summary())"
   ]
  },
  {
   "cell_type": "code",
   "execution_count": 76,
   "id": "b30f121b",
   "metadata": {},
   "outputs": [
    {
     "name": "stdout",
     "output_type": "stream",
     "text": [
      "Epoch 1/50\n",
      "187/187 [==============================] - 3s 16ms/step - loss: 3.6039 - accuracy: 0.2522 - val_loss: 1.8171 - val_accuracy: 0.3976\n",
      "Epoch 2/50\n",
      "187/187 [==============================] - 3s 16ms/step - loss: 2.0255 - accuracy: 0.3251 - val_loss: 1.5693 - val_accuracy: 0.3868\n",
      "Epoch 3/50\n",
      "187/187 [==============================] - 3s 16ms/step - loss: 2.0147 - accuracy: 0.3602 - val_loss: 1.5457 - val_accuracy: 0.4063\n",
      "Epoch 4/50\n",
      "187/187 [==============================] - 3s 17ms/step - loss: 1.7266 - accuracy: 0.3614 - val_loss: 1.5418 - val_accuracy: 0.4231\n",
      "Epoch 5/50\n",
      "187/187 [==============================] - 3s 17ms/step - loss: 1.8269 - accuracy: 0.3698 - val_loss: 1.5906 - val_accuracy: 0.4177\n",
      "Epoch 6/50\n",
      "187/187 [==============================] - 3s 18ms/step - loss: 2.0492 - accuracy: 0.3772 - val_loss: 1.5421 - val_accuracy: 0.4177\n",
      "Epoch 7/50\n",
      "187/187 [==============================] - 3s 18ms/step - loss: 1.7374 - accuracy: 0.4063 - val_loss: 1.5071 - val_accuracy: 0.4352\n",
      "Epoch 8/50\n",
      "187/187 [==============================] - 3s 18ms/step - loss: 1.5779 - accuracy: 0.4035 - val_loss: 1.4712 - val_accuracy: 0.4271\n",
      "Epoch 9/50\n",
      "187/187 [==============================] - 3s 18ms/step - loss: 1.6458 - accuracy: 0.4378 - val_loss: 1.4775 - val_accuracy: 0.4345\n",
      "Epoch 10/50\n",
      "187/187 [==============================] - 3s 17ms/step - loss: 1.7171 - accuracy: 0.4171 - val_loss: 1.4695 - val_accuracy: 0.4359\n",
      "Epoch 11/50\n",
      "187/187 [==============================] - 3s 16ms/step - loss: 1.5097 - accuracy: 0.4248 - val_loss: 1.4899 - val_accuracy: 0.4446\n",
      "Epoch 12/50\n",
      "187/187 [==============================] - 3s 16ms/step - loss: 1.4886 - accuracy: 0.4415 - val_loss: 1.4733 - val_accuracy: 0.4433\n",
      "Epoch 13/50\n",
      "187/187 [==============================] - 3s 16ms/step - loss: 1.5095 - accuracy: 0.4430 - val_loss: 1.4707 - val_accuracy: 0.4385\n",
      "Epoch 14/50\n",
      "187/187 [==============================] - 3s 16ms/step - loss: 1.3802 - accuracy: 0.4642 - val_loss: 1.4782 - val_accuracy: 0.4446\n",
      "Epoch 15/50\n",
      "187/187 [==============================] - 3s 16ms/step - loss: 1.4112 - accuracy: 0.4535 - val_loss: 1.4583 - val_accuracy: 0.4506\n",
      "Epoch 16/50\n",
      "187/187 [==============================] - 3s 16ms/step - loss: 1.4668 - accuracy: 0.4483 - val_loss: 1.4202 - val_accuracy: 0.4480\n",
      "Epoch 17/50\n",
      "187/187 [==============================] - 3s 16ms/step - loss: 1.3818 - accuracy: 0.4638 - val_loss: 1.4615 - val_accuracy: 0.4453\n",
      "Epoch 18/50\n",
      "187/187 [==============================] - 3s 16ms/step - loss: 1.3456 - accuracy: 0.4746 - val_loss: 1.4174 - val_accuracy: 0.4668\n",
      "Epoch 19/50\n",
      "187/187 [==============================] - 3s 17ms/step - loss: 1.3529 - accuracy: 0.4636 - val_loss: 1.4157 - val_accuracy: 0.4574\n",
      "Epoch 20/50\n",
      "187/187 [==============================] - 3s 17ms/step - loss: 1.3240 - accuracy: 0.4701 - val_loss: 1.4002 - val_accuracy: 0.4701\n",
      "Epoch 21/50\n",
      "187/187 [==============================] - 3s 17ms/step - loss: 1.3390 - accuracy: 0.4686 - val_loss: 1.4206 - val_accuracy: 0.4627\n",
      "Epoch 22/50\n",
      "187/187 [==============================] - 3s 18ms/step - loss: 1.3106 - accuracy: 0.4862 - val_loss: 1.4137 - val_accuracy: 0.4560\n",
      "Epoch 23/50\n",
      "187/187 [==============================] - 4s 20ms/step - loss: 1.3232 - accuracy: 0.4702 - val_loss: 1.4269 - val_accuracy: 0.4614\n",
      "Epoch 24/50\n",
      "187/187 [==============================] - 3s 18ms/step - loss: 1.3439 - accuracy: 0.4977 - val_loss: 1.4301 - val_accuracy: 0.4627\n",
      "Epoch 25/50\n",
      "187/187 [==============================] - 3s 17ms/step - loss: 1.3128 - accuracy: 0.4932 - val_loss: 1.3883 - val_accuracy: 0.4627\n",
      "Epoch 26/50\n",
      "187/187 [==============================] - 3s 17ms/step - loss: 1.3090 - accuracy: 0.4862 - val_loss: 1.4441 - val_accuracy: 0.4708\n",
      "Epoch 27/50\n",
      "187/187 [==============================] - 3s 17ms/step - loss: 1.2798 - accuracy: 0.4962 - val_loss: 1.4617 - val_accuracy: 0.4641\n",
      "Epoch 28/50\n",
      "187/187 [==============================] - 3s 16ms/step - loss: 1.2690 - accuracy: 0.4959 - val_loss: 1.4285 - val_accuracy: 0.4607\n",
      "Epoch 29/50\n",
      "187/187 [==============================] - 3s 17ms/step - loss: 1.4486 - accuracy: 0.4923 - val_loss: 1.4290 - val_accuracy: 0.4674\n",
      "Epoch 30/50\n",
      "187/187 [==============================] - 3s 16ms/step - loss: 1.2537 - accuracy: 0.5070 - val_loss: 1.4172 - val_accuracy: 0.4741\n",
      "Epoch 31/50\n",
      "187/187 [==============================] - 3s 16ms/step - loss: 1.2594 - accuracy: 0.5184 - val_loss: 1.4163 - val_accuracy: 0.4654\n",
      "Epoch 32/50\n",
      "187/187 [==============================] - 3s 17ms/step - loss: 1.4661 - accuracy: 0.5192 - val_loss: 1.4105 - val_accuracy: 0.4674\n",
      "Epoch 33/50\n",
      "187/187 [==============================] - 3s 17ms/step - loss: 1.2263 - accuracy: 0.5179 - val_loss: 1.3956 - val_accuracy: 0.4741\n",
      "Epoch 34/50\n",
      "187/187 [==============================] - 3s 17ms/step - loss: 1.2314 - accuracy: 0.5128 - val_loss: 1.3945 - val_accuracy: 0.4775\n",
      "Epoch 35/50\n",
      "187/187 [==============================] - 3s 16ms/step - loss: 1.2570 - accuracy: 0.5170 - val_loss: 1.3989 - val_accuracy: 0.4708\n",
      "Epoch 36/50\n",
      "187/187 [==============================] - 3s 17ms/step - loss: 1.2249 - accuracy: 0.5162 - val_loss: 1.3988 - val_accuracy: 0.4748\n",
      "Epoch 37/50\n",
      "187/187 [==============================] - 3s 16ms/step - loss: 1.2026 - accuracy: 0.5351 - val_loss: 1.3900 - val_accuracy: 0.4708\n",
      "Epoch 38/50\n",
      "187/187 [==============================] - 3s 16ms/step - loss: 1.2512 - accuracy: 0.5254 - val_loss: 1.3816 - val_accuracy: 0.4715\n",
      "Epoch 39/50\n",
      "187/187 [==============================] - 3s 16ms/step - loss: 1.2197 - accuracy: 0.5168 - val_loss: 1.3816 - val_accuracy: 0.4762\n",
      "Epoch 40/50\n",
      "187/187 [==============================] - 3s 16ms/step - loss: 1.2267 - accuracy: 0.5212 - val_loss: 1.3990 - val_accuracy: 0.4775\n",
      "Epoch 41/50\n",
      "187/187 [==============================] - 3s 16ms/step - loss: 1.1966 - accuracy: 0.5275 - val_loss: 1.4126 - val_accuracy: 0.4782\n",
      "Epoch 42/50\n",
      "187/187 [==============================] - 3s 17ms/step - loss: 1.1741 - accuracy: 0.5437 - val_loss: 1.3961 - val_accuracy: 0.4809\n",
      "Epoch 43/50\n",
      "187/187 [==============================] - 3s 18ms/step - loss: 1.2682 - accuracy: 0.5409 - val_loss: 1.4272 - val_accuracy: 0.4775\n",
      "Epoch 44/50\n",
      "187/187 [==============================] - 3s 18ms/step - loss: 1.1878 - accuracy: 0.5302 - val_loss: 1.4234 - val_accuracy: 0.4842\n",
      "Epoch 45/50\n",
      "187/187 [==============================] - 3s 19ms/step - loss: 1.1940 - accuracy: 0.5445 - val_loss: 1.4141 - val_accuracy: 0.4647\n",
      "Epoch 46/50\n",
      "187/187 [==============================] - 3s 18ms/step - loss: 1.2161 - accuracy: 0.5545 - val_loss: 1.4269 - val_accuracy: 0.4681\n",
      "Epoch 47/50\n",
      "187/187 [==============================] - 3s 18ms/step - loss: 1.1657 - accuracy: 0.5345 - val_loss: 1.4252 - val_accuracy: 0.4903\n",
      "Epoch 48/50\n",
      "187/187 [==============================] - 3s 18ms/step - loss: 1.1662 - accuracy: 0.5508 - val_loss: 1.4045 - val_accuracy: 0.4856\n",
      "Epoch 49/50\n",
      "187/187 [==============================] - 3s 18ms/step - loss: 1.1405 - accuracy: 0.5535 - val_loss: 1.4322 - val_accuracy: 0.4741\n",
      "Epoch 50/50\n",
      "187/187 [==============================] - 3s 17ms/step - loss: 1.1975 - accuracy: 0.5400 - val_loss: 1.4217 - val_accuracy: 0.4815\n",
      "47/47 [==============================] - 0s 3ms/step - loss: 1.4217 - accuracy: 0.4815\n",
      "Accuracy of our model on test data :  48.15312325954437 %\n"
     ]
    }
   ],
   "source": [
    "cnnhistory = model.fit(x_train, y_train, epochs=50, validation_data=(x_test, y_test))\n",
    "print(\"Accuracy of our model on test data : \", model.evaluate(x_test,y_test)[1]*100 , \"%\")"
   ]
  },
  {
   "cell_type": "code",
   "execution_count": 77,
   "id": "67233ae8",
   "metadata": {},
   "outputs": [
    {
     "data": {
      "image/png": "[encoded data removed]",
      "text/plain": [
       "<Figure size 576x432 with 1 Axes>"
      ]
     },
     "metadata": {
      "needs_background": "light"
     },
     "output_type": "display_data"
    }
   ],
   "source": [
    "plt.plot(cnnhistory.history['loss'], label = 'Training Accuracy')\n",
    "plt.plot(cnnhistory.history['val_loss'], label = 'Test Accuracy')\n",
    "plt.title('Model Loss')\n",
    "plt.ylabel('loss')\n",
    "plt.xlabel('epoch')\n",
    "plt.legend()\n",
    "plt.show()"
   ]
  },
  {
   "cell_type": "code",
   "execution_count": 78,
   "id": "e526af0a",
   "metadata": {},
   "outputs": [
    {
     "data": {
      "image/png": "[encoded data removed]",
      "text/plain": [
       "<Figure size 576x432 with 1 Axes>"
      ]
     },
     "metadata": {
      "needs_background": "light"
     },
     "output_type": "display_data"
    }
   ],
   "source": [
    "plt.plot(cnnhistory.history['accuracy'], label = 'Training Accuracy')\n",
    "plt.plot(cnnhistory.history['val_accuracy'], label = 'Test Accuracy')\n",
    "plt.title('Model Accuracy')\n",
    "plt.ylabel('accuracy')\n",
    "plt.xlabel('epoch')\n",
    "plt.legend()\n",
    "plt.show()"
   ]
  }
 ],
 "metadata": {
  "kernelspec": {
   "display_name": "Python 3",
   "language": "python",
   "name": "python3"
  },
  "language_info": {
   "codemirror_mode": {
    "name": "ipython",
    "version": 3
   },
   "file_extension": ".py",
   "mimetype": "text/x-python",
   "name": "python",
   "nbconvert_exporter": "python",
   "pygments_lexer": "ipython3",
   "version": "3.8.8"
  }
 },
 "nbformat": 4,
 "nbformat_minor": 5
}
