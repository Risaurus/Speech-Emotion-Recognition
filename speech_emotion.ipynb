{
 "cells": [
  {
   "cell_type": "code",
   "execution_count": 1,
   "id": "78882f77",
   "metadata": {},
   "outputs": [],
   "source": [
    "import pandas as pd\n",
    "import numpy as np\n",
    "from sklearn.model_selection import train_test_split\n",
    "from sklearn.preprocessing import RobustScaler\n",
    "import os\n",
    "import librosa\n",
    "import librosa.display\n",
    "import matplotlib.pyplot as plt\n",
    "from IPython.display import Audio\n",
    "import seaborn as sns\n",
    "import speech_emotion as ser"
   ]
  },
  {
   "cell_type": "code",
   "execution_count": 2,
   "id": "546c1d94",
   "metadata": {},
   "outputs": [],
   "source": [
    "import keras\n",
    "from keras.models import Sequential\n",
    "from keras.layers import Conv1D, Activation, Dropout, MaxPooling1D, Flatten, Dense, BatchNormalization"
   ]
  },
  {
   "cell_type": "code",
   "execution_count": 3,
   "id": "de2193e9",
   "metadata": {
    "scrolled": true
   },
   "outputs": [
    {
     "data": {
      "image/png": "[encoded data removed]",
      "text/plain": [
       "<Figure size 576x432 with 1 Axes>"
      ]
     },
     "metadata": {},
     "output_type": "display_data"
    }
   ],
   "source": [
    "# data visualization\n",
    "ser.displaydatapie()"
   ]
  },
  {
   "cell_type": "code",
   "execution_count": 4,
   "id": "17306592",
   "metadata": {},
   "outputs": [
    {
     "name": "stdout",
     "output_type": "stream",
     "text": [
      "      label                          path\n",
      "0         0  AudioWAV/1001_DFA_ANG_XX.wav\n",
      "1         1  AudioWAV/1001_DFA_DIS_XX.wav\n",
      "2         2  AudioWAV/1001_DFA_FEA_XX.wav\n",
      "3         3  AudioWAV/1001_DFA_HAP_XX.wav\n",
      "4         4  AudioWAV/1001_DFA_NEU_XX.wav\n",
      "...     ...                           ...\n",
      "7437      1  AudioWAV/1091_WSI_DIS_XX.wav\n",
      "7438      2  AudioWAV/1091_WSI_FEA_XX.wav\n",
      "7439      3  AudioWAV/1091_WSI_HAP_XX.wav\n",
      "7440      4  AudioWAV/1091_WSI_NEU_XX.wav\n",
      "7441      5  AudioWAV/1091_WSI_SAD_XX.wav\n",
      "\n",
      "[7442 rows x 2 columns]\n",
      "      label\n",
      "0         0\n",
      "1         1\n",
      "2         2\n",
      "3         3\n",
      "4         4\n",
      "...     ...\n",
      "7437      1\n",
      "7438      2\n",
      "7439      3\n",
      "7440      4\n",
      "7441      5\n",
      "\n",
      "[7442 rows x 1 columns]\n"
     ]
    }
   ],
   "source": [
    "# load data\n",
    "data = \"AudioWAV/\"\n",
    "\n",
    "data_df, emotion_df = ser.load_data(data)"
   ]
  },
  {
   "cell_type": "code",
   "execution_count": 5,
   "id": "3d5e102c",
   "metadata": {
    "scrolled": true
   },
   "outputs": [
    {
     "name": "stderr",
     "output_type": "stream",
     "text": [
      "C:\\Users\\ahris\\miniconda3\\envs\\env8\\lib\\site-packages\\librosa\\core\\pitch.py:153: UserWarning: Trying to estimate tuning from empty frequency set.\n",
      "  warnings.warn(\"Trying to estimate tuning from empty frequency set.\")\n"
     ]
    },
    {
     "name": "stdout",
     "output_type": "stream",
     "text": [
      "            0          1          2          3          4          5    \\\n",
      "0     22.002622  15.386446  18.846731  16.960540  19.038135  18.399464   \n",
      "1     19.848460  14.237836  17.875207  15.871108  17.862471  17.399194   \n",
      "2     21.570514  14.974913  18.369854  16.206723  18.569050  17.083304   \n",
      "3     21.157698  16.798375  18.089729  15.914725  19.340829  17.884558   \n",
      "4     19.830533  14.517372  17.898066  16.243591  18.553866  18.304708   \n",
      "...         ...        ...        ...        ...        ...        ...   \n",
      "7437  16.940940  15.604042  16.859897  16.838104  17.082393  16.849975   \n",
      "7438  18.439287  16.671778  17.527486  15.800361  17.059067  16.519365   \n",
      "7439  18.036643  16.275475  18.176777  16.736053  17.067760  17.301670   \n",
      "7440  16.437263  15.151761  17.839488  17.293376  17.078778  17.073937   \n",
      "7441  16.505109  14.933378  16.805214  17.322597  17.362558  16.643943   \n",
      "\n",
      "            6         7         8         9    ...       158       159  \\\n",
      "0     14.794443  0.661535  0.698241  0.688564  ...  0.002776  0.003979   \n",
      "1     14.918250  0.718796  0.739444  0.659150  ...  0.000722  0.001212   \n",
      "2     14.948404  0.630143  0.671622  0.649829  ...  0.014204  0.008267   \n",
      "3     14.872452  0.636740  0.666682  0.671310  ...  0.005569  0.005387   \n",
      "4     14.579522  0.707973  0.680460  0.669262  ...  0.000405  0.000405   \n",
      "...         ...       ...       ...       ...  ...       ...       ...   \n",
      "7437  16.568807  0.578036  0.542915  0.540237  ...  0.003984  0.003814   \n",
      "7438  16.613984  0.560239  0.553940  0.549107  ...  0.008820  0.006143   \n",
      "7439  15.294366  0.482410  0.512725  0.499328  ...  0.006297  0.006729   \n",
      "7440  16.186527  0.496235  0.585497  0.585360  ...  0.001619  0.001398   \n",
      "7441  17.131928  0.527508  0.521602  0.508002  ...  0.003243  0.004020   \n",
      "\n",
      "           160       161       162       163       164       165       166  \\\n",
      "0     0.002250  0.003137  0.003351  0.002825  0.002283  0.002875  0.003217   \n",
      "1     0.000678  0.000941  0.001306  0.001039  0.001349  0.001004  0.001274   \n",
      "2     0.004759  0.011868  0.017361  0.012410  0.019017  0.013379  0.010257   \n",
      "3     0.008728  0.012497  0.010876  0.005357  0.006023  0.003931  0.003002   \n",
      "4     0.000724  0.000856  0.000796  0.000431  0.000584  0.000571  0.000778   \n",
      "...        ...       ...       ...       ...       ...       ...       ...   \n",
      "7437  0.003198  0.002952  0.002370  0.002534  0.001539  0.000983  0.001509   \n",
      "7438  0.004590  0.003414  0.004076  0.004454  0.005628  0.004208  0.004655   \n",
      "7439  0.006394  0.004087  0.005281  0.006372  0.004301  0.003732  0.006234   \n",
      "7440  0.000913  0.001703  0.002288  0.002203  0.002061  0.001348  0.001125   \n",
      "7441  0.002131  0.001385  0.001770  0.001701  0.000716  0.000590  0.001019   \n",
      "\n",
      "           167  \n",
      "0     0.002537  \n",
      "1     0.001167  \n",
      "2     0.008362  \n",
      "3     0.003396  \n",
      "4     0.000657  \n",
      "...        ...  \n",
      "7437  0.001905  \n",
      "7438  0.007032  \n",
      "7439  0.006943  \n",
      "7440  0.001000  \n",
      "7441  0.001427  \n",
      "\n",
      "[7442 rows x 168 columns]\n"
     ]
    }
   ],
   "source": [
    "# all features (first option) had highest accuracy\n",
    "\n",
    "df = ser.extract_features(data_df, contrast=True, chroma=True, mfcc=True, rms=True, mel=True)\n",
    "#df = ser.extract_features(data_df, chroma=True, mfcc=True, mel=True)\n",
    "#df = ser.extract_features(data_df, contrast=True, chroma=True, mfcc=True, rms=True)\n",
    "#df = ser.extract_features(data_df, contrast=True, chroma=True, mel=True)\n",
    "#df = ser.extract_features(data_df, contrast=True, chroma=True, rms=True)\n",
    "print(df)"
   ]
  },
  {
   "cell_type": "code",
   "execution_count": 6,
   "id": "72a16ab6",
   "metadata": {
    "scrolled": true
   },
   "outputs": [
    {
     "name": "stdout",
     "output_type": "stream",
     "text": [
      "[[[1.53322280e+01]\n",
      "  [1.63396928e+01]\n",
      "  [1.78916224e+01]\n",
      "  ...\n",
      "  [7.11725093e-03]\n",
      "  [8.56900588e-03]\n",
      "  [1.36274481e-02]]\n",
      "\n",
      " [[1.61719240e+01]\n",
      "  [1.49184327e+01]\n",
      "  [1.83252939e+01]\n",
      "  ...\n",
      "  [1.60448399e-04]\n",
      "  [1.20777164e-04]\n",
      "  [1.51830871e-04]]\n",
      "\n",
      " [[1.36423343e+01]\n",
      "  [1.46486663e+01]\n",
      "  [1.69422223e+01]\n",
      "  ...\n",
      "  [7.80899310e-04]\n",
      "  [5.63898298e-04]\n",
      "  [5.45613875e-04]]\n",
      "\n",
      " ...\n",
      "\n",
      " [[1.76874132e+01]\n",
      "  [1.65052025e+01]\n",
      "  [2.02256685e+01]\n",
      "  ...\n",
      "  [1.36210872e-02]\n",
      "  [1.00795114e-02]\n",
      "  [1.04638580e-02]]\n",
      "\n",
      " [[1.93271505e+01]\n",
      "  [1.55533316e+01]\n",
      "  [1.76559037e+01]\n",
      "  ...\n",
      "  [9.87999048e-03]\n",
      "  [1.25604598e-02]\n",
      "  [1.48832593e-02]]\n",
      "\n",
      " [[2.14459685e+01]\n",
      "  [1.59166138e+01]\n",
      "  [1.68838851e+01]\n",
      "  ...\n",
      "  [1.71206263e-03]\n",
      "  [1.26386737e-03]\n",
      "  [1.45637325e-03]]]\n",
      "(5953, 168, 1)\n"
     ]
    }
   ],
   "source": [
    "x_train, x_test, y_train, y_test = ser.tts_adjust(df, emotion_df)\n",
    "print(x_train)\n",
    "print(x_train.shape)\n",
    "\n",
    "# scaling data with sklearn's RobustScaler\n",
    "#scaler = RobustScaler()\n",
    "#x_train_scaled = scaler.fit_transform(x_train)\n",
    "#x_test = scaler.transform(x_test)\n",
    "#print(x_train_scaled)"
   ]
  },
  {
   "cell_type": "code",
   "execution_count": 7,
   "id": "ac64f096",
   "metadata": {
    "scrolled": true
   },
   "outputs": [
    {
     "name": "stdout",
     "output_type": "stream",
     "text": [
      "Model: \"sequential\"\n",
      "_________________________________________________________________\n",
      "Layer (type)                 Output Shape              Param #   \n",
      "=================================================================\n",
      "conv1d (Conv1D)              (None, 168, 256)          2304      \n",
      "_________________________________________________________________\n",
      "max_pooling1d (MaxPooling1D) (None, 84, 256)           0         \n",
      "_________________________________________________________________\n",
      "conv1d_1 (Conv1D)            (None, 84, 256)           327936    \n",
      "_________________________________________________________________\n",
      "activation (Activation)      (None, 84, 256)           0         \n",
      "_________________________________________________________________\n",
      "max_pooling1d_1 (MaxPooling1 (None, 42, 256)           0         \n",
      "_________________________________________________________________\n",
      "conv1d_2 (Conv1D)            (None, 42, 128)           163968    \n",
      "_________________________________________________________________\n",
      "activation_1 (Activation)    (None, 42, 128)           0         \n",
      "_________________________________________________________________\n",
      "max_pooling1d_2 (MaxPooling1 (None, 21, 128)           0         \n",
      "_________________________________________________________________\n",
      "dropout (Dropout)            (None, 21, 128)           0         \n",
      "_________________________________________________________________\n",
      "conv1d_3 (Conv1D)            (None, 21, 64)            41024     \n",
      "_________________________________________________________________\n",
      "activation_2 (Activation)    (None, 21, 64)            0         \n",
      "_________________________________________________________________\n",
      "max_pooling1d_3 (MaxPooling1 (None, 11, 64)            0         \n",
      "_________________________________________________________________\n",
      "flatten (Flatten)            (None, 704)               0         \n",
      "_________________________________________________________________\n",
      "dense (Dense)                (None, 32)                22560     \n",
      "_________________________________________________________________\n",
      "activation_3 (Activation)    (None, 32)                0         \n",
      "_________________________________________________________________\n",
      "dropout_1 (Dropout)          (None, 32)                0         \n",
      "_________________________________________________________________\n",
      "dense_1 (Dense)              (None, 8)                 264       \n",
      "=================================================================\n",
      "Total params: 558,056\n",
      "Trainable params: 558,056\n",
      "Non-trainable params: 0\n",
      "_________________________________________________________________\n",
      "None\n"
     ]
    }
   ],
   "source": [
    "# 17 Layer Model\n",
    "model = Sequential()\n",
    "model.add(Conv1D(256, 8, padding='same', input_shape=(x_train.shape[1], 1)))\n",
    "model.add(MaxPooling1D(pool_size=5, strides = 2, padding = 'same'))\n",
    "\n",
    "model.add(Conv1D(256, kernel_size=5, strides=1, padding='same'))\n",
    "model.add(Activation('relu'))\n",
    "model.add(MaxPooling1D(pool_size=5, strides = 2, padding = 'same'))\n",
    "\n",
    "model.add(Conv1D(128, kernel_size=5, strides=1, padding='same'))\n",
    "model.add(Activation('relu'))\n",
    "model.add(MaxPooling1D(pool_size=5, strides = 2, padding = 'same'))\n",
    "model.add(Dropout(0.2))\n",
    "\n",
    "model.add(Conv1D(64, kernel_size=5, strides=1, padding='same'))\n",
    "model.add(Activation('relu'))\n",
    "model.add(MaxPooling1D(pool_size=5, strides = 2, padding = 'same'))\n",
    "\n",
    "model.add(Flatten())\n",
    "model.add(Dense(units=32))\n",
    "model.add(Activation('relu'))\n",
    "model.add(Dropout(0.3))\n",
    "\n",
    "model.add(Dense(units=8, activation='sigmoid'))\n",
    "opt = keras.optimizers.Adam(lr=0.0001)\n",
    "model.compile(optimizer=opt, loss = 'sparse_categorical_crossentropy', metrics=['accuracy'])\n",
    "print(model.summary())"
   ]
  },
  {
   "cell_type": "code",
   "execution_count": 8,
   "id": "501de0cd",
   "metadata": {},
   "outputs": [
    {
     "data": {
      "text/plain": [
       "\"model = Sequential()\\nmodel.add(Conv1D(256, 8, padding='same', input_shape=(x_train.shape[1], 1)))\\nmodel.add(MaxPooling1D(pool_size=5, strides = 2, padding = 'same'))\\n\\nmodel.add(Flatten())\\nmodel.add(Dense(units=64))\\nmodel.add(Activation('relu'))\\nmodel.add(Dropout(0.3))\\n\\nmodel.add(Dense(units=64, activation='sigmoid'))\\nopt = keras.optimizers.Adam(lr=0.0001)\\nmodel.compile(optimizer=opt, loss = 'sparse_categorical_crossentropy', metrics=['accuracy'])\\nprint(model.summary())\""
      ]
     },
     "execution_count": 8,
     "metadata": {},
     "output_type": "execute_result"
    }
   ],
   "source": [
    "# 7 Layer Model\n",
    "\"\"\"model = Sequential()\n",
    "model.add(Conv1D(256, 8, padding='same', input_shape=(x_train.shape[1], 1)))\n",
    "model.add(MaxPooling1D(pool_size=5, strides = 2, padding = 'same'))\n",
    "\n",
    "model.add(Flatten())\n",
    "model.add(Dense(units=64))\n",
    "model.add(Activation('relu'))\n",
    "model.add(Dropout(0.3))\n",
    "\n",
    "model.add(Dense(units=64, activation='sigmoid'))\n",
    "opt = keras.optimizers.Adam(lr=0.0001)\n",
    "model.compile(optimizer=opt, loss = 'sparse_categorical_crossentropy', metrics=['accuracy'])\n",
    "print(model.summary())\"\"\""
   ]
  },
  {
   "cell_type": "code",
   "execution_count": 9,
   "id": "220c2688",
   "metadata": {
    "scrolled": true
   },
   "outputs": [
    {
     "name": "stdout",
     "output_type": "stream",
     "text": [
      "47/47 [==============================] - 0s 8ms/step - loss: 1.3274 - accuracy: 0.4909\n",
      "Accuracy of our model on test data :  49.093350768089294 %\n"
     ]
    }
   ],
   "source": [
    "cnnhistory = model.fit(x_train, y_train, epochs=90, validation_data=(x_test, y_test), verbose=0)\n",
    "print(\"Accuracy of our model on test data : \", model.evaluate(x_test,y_test)[1]*100 , \"%\")\n",
    "\n",
    "# score = model.evaluate(x_test, y_test, verbose=0)\n",
    "# print(\"%s: %.2f%%\" % (model.metrics_names[1], score[1]*100))"
   ]
  },
  {
   "cell_type": "code",
   "execution_count": 10,
   "id": "f6048c6a",
   "metadata": {},
   "outputs": [
    {
     "data": {
      "image/png": "[encoded data removed]",
      "text/plain": [
       "<Figure size 576x432 with 1 Axes>"
      ]
     },
     "metadata": {
      "needs_background": "light"
     },
     "output_type": "display_data"
    }
   ],
   "source": [
    "# display graph that shows accuracy over epoch iteration\n",
    "ser.displayplot_acc(cnnhistory, 'Accuracy v Epoch')"
   ]
  }
 ],
 "metadata": {
  "kernelspec": {
   "display_name": "Python 3",
   "language": "python",
   "name": "python3"
  },
  "language_info": {
   "codemirror_mode": {
    "name": "ipython",
    "version": 3
   },
   "file_extension": ".py",
   "mimetype": "text/x-python",
   "name": "python",
   "nbconvert_exporter": "python",
   "pygments_lexer": "ipython3",
   "version": "3.8.8"
  }
 },
 "nbformat": 4,
 "nbformat_minor": 5
}
